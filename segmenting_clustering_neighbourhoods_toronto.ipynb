{
  "nbformat": 4,
  "nbformat_minor": 0,
  "metadata": {
    "colab": {
      "name": "segmenting_clustering_neighbourhoods_toronto.ipynb",
      "provenance": []
    },
    "kernelspec": {
      "name": "python3",
      "display_name": "Python 3"
    }
  },
  "cells": [
    {
      "cell_type": "markdown",
      "metadata": {
        "colab_type": "text",
        "id": "DXM3xf1w56Dp"
      },
      "source": [
        "Importing necessary packages. We use pandas for generating a dataframe and modifying it as required. The requests package is used to get a response object. Lh is used to extract table data based on html header tr."
      ]
    },
    {
      "cell_type": "code",
      "metadata": {
        "id": "2GVjM-3A57o1",
        "colab_type": "code",
        "colab": {}
      },
      "source": [
        "import pandas as pd\n",
        "import requests\n",
        "import lxml.html as lh"
      ],
      "execution_count": 0,
      "outputs": []
    },
    {
      "cell_type": "markdown",
      "metadata": {
        "id": "LVN8QpYP5_ja",
        "colab_type": "text"
      },
      "source": [
        "Url is the website from which we want to scrape data, in our case the wikipedia site with a table file with postal codes, boroughs and neighbourhoods. the xpath parameter is to indicate the content we want to extract. tr implies the rows of the table"
      ]
    },
    {
      "cell_type": "code",
      "metadata": {
        "id": "ZQIakR426Cu4",
        "colab_type": "code",
        "colab": {}
      },
      "source": [
        "url=\"https://en.wikipedia.org/wiki/List_of_postal_codes_of_Canada:_M\"\n",
        "page=requests.get(url)\n",
        "doc = lh.fromstring(page.content)\n",
        "tr_elements = doc.xpath('//tr')"
      ],
      "execution_count": 0,
      "outputs": []
    },
    {
      "cell_type": "markdown",
      "metadata": {
        "id": "xJdPvYlc6Glw",
        "colab_type": "text"
      },
      "source": [
        "Here we iterate over the elements at the 0th position since it contains the different columns of the table"
      ]
    },
    {
      "cell_type": "code",
      "metadata": {
        "id": "0fMVFncP6Kfe",
        "colab_type": "code",
        "outputId": "27a18578-ac27-4d81-e911-f00ed598b4f8",
        "colab": {
          "base_uri": "https://localhost:8080/",
          "height": 119
        }
      },
      "source": [
        "col=[]\n",
        "i=0\n",
        "for t in tr_elements[0]:\n",
        "    i+=1\n",
        "    name=t.text_content()\n",
        "    print ('%d:\"%s\"'%(i,name))\n",
        "    name=name[:len(name)-1:]\n",
        "    col.append((name,[]))"
      ],
      "execution_count": 12,
      "outputs": [
        {
          "output_type": "stream",
          "text": [
            "1:\"Postal Code\n",
            "\"\n",
            "2:\"Borough\n",
            "\"\n",
            "3:\"Neighborhood\n",
            "\"\n"
          ],
          "name": "stdout"
        }
      ]
    },
    {
      "cell_type": "markdown",
      "metadata": {
        "id": "THBsPg_P6O02",
        "colab_type": "text"
      },
      "source": [
        "Now we iterate over the rest of the tr elements. the length shouldn't be greater than the number of columns. We check if it's empty and do numerical and string conversions"
      ]
    },
    {
      "cell_type": "code",
      "metadata": {
        "id": "SiZy4Z0I6P29",
        "colab_type": "code",
        "colab": {}
      },
      "source": [
        "for j in range(1,len(tr_elements)):\n",
        "    T=tr_elements[j]\n",
        "    if len(T)!=3:\n",
        "        break\n",
        "    \n",
        "    i=0\n",
        "    for t in T.iterchildren():\n",
        "        data=t.text_content() \n",
        "        if i>0:\n",
        "            try:\n",
        "                data=int(data)\n",
        "            except:\n",
        "                pass\n",
        "        st=str(data)\n",
        "        st=st[:len(st)-1:]\n",
        "        col[i][1].append(st)\n",
        "        i+=1"
      ],
      "execution_count": 0,
      "outputs": []
    },
    {
      "cell_type": "markdown",
      "metadata": {
        "id": "u_GgFgBB6SNH",
        "colab_type": "text"
      },
      "source": [
        "We convert the the title and column lists to a dictionary where the column name is key and lists extracted above are the value. We convert this to a dataframe and drop all the rows where the borough isn't assigned and rename Postal Code to remove the space"
      ]
    },
    {
      "cell_type": "code",
      "metadata": {
        "id": "9fRCeACv6U2n",
        "colab_type": "code",
        "outputId": "1758cfa1-6187-4075-aafb-19b47527f322",
        "colab": {
          "base_uri": "https://localhost:8080/",
          "height": 419
        }
      },
      "source": [
        "Dict={title:column for (title,column) in col}\n",
        "df=pd.DataFrame(Dict)\n",
        "df_filtered=df[df['Borough']!=\"Not assigned\"]\n",
        "df_new=df_filtered.rename(columns={'Postal Code':'PostalCode'})\n",
        "df_new.drop(df_new.tail(1).index,inplace=True)\n",
        "df_new.reset_index(drop=True, inplace=True)\n",
        "df_new"
      ],
      "execution_count": 18,
      "outputs": [
        {
          "output_type": "execute_result",
          "data": {
            "text/html": [
              "<div>\n",
              "<style scoped>\n",
              "    .dataframe tbody tr th:only-of-type {\n",
              "        vertical-align: middle;\n",
              "    }\n",
              "\n",
              "    .dataframe tbody tr th {\n",
              "        vertical-align: top;\n",
              "    }\n",
              "\n",
              "    .dataframe thead th {\n",
              "        text-align: right;\n",
              "    }\n",
              "</style>\n",
              "<table border=\"1\" class=\"dataframe\">\n",
              "  <thead>\n",
              "    <tr style=\"text-align: right;\">\n",
              "      <th></th>\n",
              "      <th>PostalCode</th>\n",
              "      <th>Borough</th>\n",
              "      <th>Neighborhood</th>\n",
              "    </tr>\n",
              "  </thead>\n",
              "  <tbody>\n",
              "    <tr>\n",
              "      <th>0</th>\n",
              "      <td>M3A</td>\n",
              "      <td>North York</td>\n",
              "      <td>Parkwoods</td>\n",
              "    </tr>\n",
              "    <tr>\n",
              "      <th>1</th>\n",
              "      <td>M4A</td>\n",
              "      <td>North York</td>\n",
              "      <td>Victoria Village</td>\n",
              "    </tr>\n",
              "    <tr>\n",
              "      <th>2</th>\n",
              "      <td>M5A</td>\n",
              "      <td>Downtown Toronto</td>\n",
              "      <td>Regent Park, Harbourfront</td>\n",
              "    </tr>\n",
              "    <tr>\n",
              "      <th>3</th>\n",
              "      <td>M6A</td>\n",
              "      <td>North York</td>\n",
              "      <td>Lawrence Manor, Lawrence Heights</td>\n",
              "    </tr>\n",
              "    <tr>\n",
              "      <th>4</th>\n",
              "      <td>M7A</td>\n",
              "      <td>Downtown Toronto</td>\n",
              "      <td>Queen's Park, Ontario Provincial Government</td>\n",
              "    </tr>\n",
              "    <tr>\n",
              "      <th>...</th>\n",
              "      <td>...</td>\n",
              "      <td>...</td>\n",
              "      <td>...</td>\n",
              "    </tr>\n",
              "    <tr>\n",
              "      <th>98</th>\n",
              "      <td>M8X</td>\n",
              "      <td>Etobicoke</td>\n",
              "      <td>The Kingsway, Montgomery Road, Old Mill North</td>\n",
              "    </tr>\n",
              "    <tr>\n",
              "      <th>99</th>\n",
              "      <td>M4Y</td>\n",
              "      <td>Downtown Toronto</td>\n",
              "      <td>Church and Wellesley</td>\n",
              "    </tr>\n",
              "    <tr>\n",
              "      <th>100</th>\n",
              "      <td>M7Y</td>\n",
              "      <td>East Toronto</td>\n",
              "      <td>Business reply mail Processing Centre, South C...</td>\n",
              "    </tr>\n",
              "    <tr>\n",
              "      <th>101</th>\n",
              "      <td>M8Y</td>\n",
              "      <td>Etobicoke</td>\n",
              "      <td>Old Mill South, King's Mill Park, Sunnylea, Hu...</td>\n",
              "    </tr>\n",
              "    <tr>\n",
              "      <th>102</th>\n",
              "      <td>M8Z</td>\n",
              "      <td>Etobicoke</td>\n",
              "      <td>Mimico NW, The Queensway West, South of Bloor,...</td>\n",
              "    </tr>\n",
              "  </tbody>\n",
              "</table>\n",
              "<p>103 rows × 3 columns</p>\n",
              "</div>"
            ],
            "text/plain": [
              "    PostalCode  ...                                       Neighborhood\n",
              "0          M3A  ...                                          Parkwoods\n",
              "1          M4A  ...                                   Victoria Village\n",
              "2          M5A  ...                          Regent Park, Harbourfront\n",
              "3          M6A  ...                   Lawrence Manor, Lawrence Heights\n",
              "4          M7A  ...        Queen's Park, Ontario Provincial Government\n",
              "..         ...  ...                                                ...\n",
              "98         M8X  ...      The Kingsway, Montgomery Road, Old Mill North\n",
              "99         M4Y  ...                               Church and Wellesley\n",
              "100        M7Y  ...  Business reply mail Processing Centre, South C...\n",
              "101        M8Y  ...  Old Mill South, King's Mill Park, Sunnylea, Hu...\n",
              "102        M8Z  ...  Mimico NW, The Queensway West, South of Bloor,...\n",
              "\n",
              "[103 rows x 3 columns]"
            ]
          },
          "metadata": {
            "tags": []
          },
          "execution_count": 18
        }
      ]
    },
    {
      "cell_type": "code",
      "metadata": {
        "id": "qZHt8soN6q-z",
        "colab_type": "code",
        "outputId": "a7f6ee52-0ace-4423-dc13-fdcfcdad7c5d",
        "colab": {
          "base_uri": "https://localhost:8080/",
          "height": 34
        }
      },
      "source": [
        "df_new.shape"
      ],
      "execution_count": 19,
      "outputs": [
        {
          "output_type": "execute_result",
          "data": {
            "text/plain": [
              "(103, 3)"
            ]
          },
          "metadata": {
            "tags": []
          },
          "execution_count": 19
        }
      ]
    },
    {
      "cell_type": "code",
      "metadata": {
        "id": "r4rR0fPg7L48",
        "colab_type": "code",
        "colab": {}
      },
      "source": [
        ""
      ],
      "execution_count": 0,
      "outputs": []
    }
  ]
}