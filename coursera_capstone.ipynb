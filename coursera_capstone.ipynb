{
  "nbformat": 4,
  "nbformat_minor": 0,
  "metadata": {
    "colab": {
      "name": "coursera_capstone.ipynb",
      "provenance": [],
      "collapsed_sections": []
    },
    "kernelspec": {
      "name": "python3",
      "display_name": "Python 3"
    }
  },
  "cells": [
    {
      "cell_type": "markdown",
      "metadata": {
        "id": "ePu_UaK9vIS2",
        "colab_type": "text"
      },
      "source": [
        "This is the capstone project for the coursera applied data science specialization. As a part of the project, we will be developing a predictor which can be used to find the best neighbourhood surrounding a fixed point and determine it's probablity of being picked on the basis of various factors such as public amenties, grocery stores, fast food joints etc\n"
      ]
    },
    {
      "cell_type": "code",
      "metadata": {
        "id": "L2X3pxkgXzLb",
        "colab_type": "code",
        "colab": {}
      },
      "source": [
        "import pandas as pd\n",
        "import numpy as np\n"
      ],
      "execution_count": 0,
      "outputs": []
    },
    {
      "cell_type": "code",
      "metadata": {
        "id": "xWpu_A6JYHMH",
        "colab_type": "code",
        "outputId": "b07b90e5-d001-4c34-be9e-ec07b72941b9",
        "colab": {
          "base_uri": "https://localhost:8080/",
          "height": 34
        }
      },
      "source": [
        "print(\"Hello Capstone Project Course!\")"
      ],
      "execution_count": 43,
      "outputs": [
        {
          "output_type": "stream",
          "text": [
            "Hello Capstone Project Course!\n"
          ],
          "name": "stdout"
        }
      ]
    }
  ]
}